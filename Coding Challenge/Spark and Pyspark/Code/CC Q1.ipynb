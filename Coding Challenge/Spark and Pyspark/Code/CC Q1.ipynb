{
 "cells": [
  {
   "cell_type": "code",
   "execution_count": 0,
   "metadata": {
    "application/vnd.databricks.v1+cell": {
     "cellMetadata": {
      "byteLimit": 2048000,
      "rowLimit": 10000
     },
     "inputWidgets": {},
     "nuid": "ebc2e63e-d02b-422c-99fd-301d5587f4a2",
     "showTitle": false,
     "title": ""
    }
   },
   "outputs": [],
   "source": [
    "from pyspark.sql import SparkSession"
   ]
  },
  {
   "cell_type": "code",
   "execution_count": 0,
   "metadata": {
    "application/vnd.databricks.v1+cell": {
     "cellMetadata": {
      "byteLimit": 2048000,
      "rowLimit": 10000
     },
     "inputWidgets": {},
     "nuid": "5c020b9e-c3c7-4b08-a225-b92051cae787",
     "showTitle": false,
     "title": ""
    }
   },
   "outputs": [],
   "source": [
    "spark = SparkSession.builder.appName('CCQ1').getOrCreate()"
   ]
  },
  {
   "cell_type": "code",
   "execution_count": 0,
   "metadata": {
    "application/vnd.databricks.v1+cell": {
     "cellMetadata": {
      "byteLimit": 2048000,
      "rowLimit": 10000
     },
     "inputWidgets": {},
     "nuid": "1a05fb84-32b1-4fe8-9683-c4b4191d219b",
     "showTitle": false,
     "title": ""
    }
   },
   "outputs": [
    {
     "output_type": "stream",
     "name": "stdout",
     "output_type": "stream",
     "text": [
      "+------+---+----------+------+\n|  Name|Age|Department|Salary|\n+------+---+----------+------+\n|Roshan| 21|        DE| 25000|\n|   Ali| 22|   Testing| 10000|\n| Imran| 22|        DE| 25000|\n|Simran| 22|   Testing| 10000|\n| Basid| 23|       R&D|100000|\n+------+---+----------+------+\n\n"
     ]
    }
   ],
   "source": [
    "data = [('Roshan',21,'DE',25000),('Ali',22,'Testing',10000),('Imran',22,'DE',25000),('Simran',22,'Testing',10000),('Basid',23,'R&D',100000)]\n",
    "columns = [\"Name\",\"Age\",\"Department\",\"Salary\"]\n",
    "df1 = spark.createDataFrame(data=data,schema=columns)\n",
    "df1.show()"
   ]
  },
  {
   "cell_type": "code",
   "execution_count": 0,
   "metadata": {
    "application/vnd.databricks.v1+cell": {
     "cellMetadata": {
      "byteLimit": 2048000,
      "rowLimit": 10000
     },
     "inputWidgets": {},
     "nuid": "1fac6403-e40a-43bb-b022-2984ab9fbfb7",
     "showTitle": false,
     "title": ""
    }
   },
   "outputs": [
    {
     "output_type": "stream",
     "name": "stdout",
     "output_type": "stream",
     "text": [
      "+----------+-----+\n|Department|Since|\n+----------+-----+\n|        DE| 1990|\n|   Testing| 2002|\n|       R&D| 1919|\n|        HR| 1919|\n|        IT| 1909|\n+----------+-----+\n\n"
     ]
    }
   ],
   "source": [
    "data = [(\"DE\",1990),(\"Testing\",2002),(\"R&D\",1919),(\"HR\",1919),(\"IT\",1909)]\n",
    "columns = [\"Department\",\"Since\"]\n",
    "df2 = spark.createDataFrame(data=data, schema=columns)\n",
    "df2.show()"
   ]
  },
  {
   "cell_type": "code",
   "execution_count": 0,
   "metadata": {
    "application/vnd.databricks.v1+cell": {
     "cellMetadata": {
      "byteLimit": 2048000,
      "rowLimit": 10000
     },
     "inputWidgets": {},
     "nuid": "171407f6-3c41-464e-a426-531f40bb93f9",
     "showTitle": false,
     "title": ""
    }
   },
   "outputs": [
    {
     "output_type": "stream",
     "name": "stdout",
     "output_type": "stream",
     "text": [
      "+------+---+----------+------+\n|  Name|Age|Department|Salary|\n+------+---+----------+------+\n|Roshan| 21|        DE| 25000|\n|   Ali| 22|   Testing| 10000|\n| Imran| 22|        DE| 25000|\n|Simran| 22|   Testing| 10000|\n| Basid| 23|       R&D|100000|\n|   Sam| 32|        HR| 50000|\n+------+---+----------+------+\n\n"
     ]
    }
   ],
   "source": [
    "# Manipulating - inserting a new record into the dataframe\n",
    "new_data = (\"Sam\",32,'HR',50000)\n",
    "df1 = df1.union(spark.createDataFrame([new_data]))\n",
    "df1.show()"
   ]
  },
  {
   "cell_type": "code",
   "execution_count": 0,
   "metadata": {
    "application/vnd.databricks.v1+cell": {
     "cellMetadata": {
      "byteLimit": 2048000,
      "rowLimit": 10000
     },
     "inputWidgets": {},
     "nuid": "cd2bf7b4-f0d9-48dc-93d3-9bc9fe1747ac",
     "showTitle": false,
     "title": ""
    }
   },
   "outputs": [
    {
     "output_type": "stream",
     "name": "stdout",
     "output_type": "stream",
     "text": [
      "+------+---+----------+\n|  Name|Age|Department|\n+------+---+----------+\n|Roshan| 21|        DE|\n|   Ali| 22|   Testing|\n| Imran| 22|        DE|\n|Simran| 22|   Testing|\n| Basid| 23|       R&D|\n|   Sam| 32|        HR|\n+------+---+----------+\n\n"
     ]
    }
   ],
   "source": [
    "# Dropping the salary column from first dataframe\n",
    "new_df1 = df1.drop(\"Salary\").show()"
   ]
  },
  {
   "cell_type": "code",
   "execution_count": 0,
   "metadata": {
    "application/vnd.databricks.v1+cell": {
     "cellMetadata": {
      "byteLimit": 2048000,
      "rowLimit": 10000
     },
     "inputWidgets": {},
     "nuid": "899e1480-3809-42f9-aaf1-0cf35081cf25",
     "showTitle": false,
     "title": ""
    }
   },
   "outputs": [
    {
     "output_type": "stream",
     "name": "stdout",
     "output_type": "stream",
     "text": [
      "+------+---+----------+------+\n|  Name|Age|Department|Salary|\n+------+---+----------+------+\n|   Ali| 22|   Testing| 10000|\n| Basid| 23|       R&D|100000|\n| Imran| 22|        DE| 25000|\n|Roshan| 21|        DE| 25000|\n|   Sam| 32|        HR| 50000|\n|Simran| 22|   Testing| 10000|\n+------+---+----------+------+\n\n+------+---+----------+------+\n|  Name|Age|Department|Salary|\n+------+---+----------+------+\n|Simran| 22|   Testing| 10000|\n|   Sam| 32|        HR| 50000|\n|Roshan| 21|        DE| 25000|\n| Imran| 22|        DE| 25000|\n| Basid| 23|       R&D|100000|\n|   Ali| 22|   Testing| 10000|\n+------+---+----------+------+\n\n"
     ]
    }
   ],
   "source": [
    "# Sorting on dataframe\n",
    "df1.sort(\"Name\").show()\n",
    "# for sorting in descending order\n",
    "df1.sort(df1[\"Name\"].desc()).show()"
   ]
  },
  {
   "cell_type": "code",
   "execution_count": 0,
   "metadata": {
    "application/vnd.databricks.v1+cell": {
     "cellMetadata": {
      "byteLimit": 2048000,
      "rowLimit": 10000
     },
     "inputWidgets": {},
     "nuid": "f0b3f8a7-709b-46d4-a479-4223a0700d29",
     "showTitle": false,
     "title": ""
    }
   },
   "outputs": [
    {
     "output_type": "stream",
     "name": "stdout",
     "output_type": "stream",
     "text": [
      "+----------+-----------+\n|Department|sum(Salary)|\n+----------+-----------+\n|        DE|      50000|\n|   Testing|      20000|\n|       R&D|     100000|\n|        HR|      50000|\n+----------+-----------+\n\n+----------+-----------+\n|Department|avg(Salary)|\n+----------+-----------+\n|        DE|    25000.0|\n|   Testing|    10000.0|\n|       R&D|   100000.0|\n|        HR|    50000.0|\n+----------+-----------+\n\n+----------+-----------+\n|Department|min(Salary)|\n+----------+-----------+\n|        DE|      25000|\n|   Testing|      10000|\n|       R&D|     100000|\n|        HR|      50000|\n+----------+-----------+\n\n+----------+-----------+\n|Department|max(Salary)|\n+----------+-----------+\n|        DE|      25000|\n|   Testing|      10000|\n|       R&D|     100000|\n|        HR|      50000|\n+----------+-----------+\n\n+----------+-----------+\n|Department|avg(Salary)|\n+----------+-----------+\n|        DE|    25000.0|\n|   Testing|    10000.0|\n|       R&D|   100000.0|\n|        HR|    50000.0|\n+----------+-----------+\n\n+----------+-----+\n|Department|count|\n+----------+-----+\n|        DE|    2|\n|   Testing|    2|\n|       R&D|    1|\n|        HR|    1|\n+----------+-----+\n\n"
     ]
    }
   ],
   "source": [
    "# group by aggregations\n",
    "# sum()\n",
    "df1.groupby(\"Department\").sum(\"Salary\").show()\n",
    "# avg()\n",
    "df1.groupby(\"Department\").avg(\"Salary\").show()\n",
    "# min()\n",
    "df1.groupby(\"Department\").min(\"Salary\").show()\n",
    "# max()\n",
    "df1.groupby(\"Department\").max(\"Salary\").show()\n",
    "# mean()\n",
    "df1.groupby(\"Department\").mean(\"Salary\").show()\n",
    "# count\n",
    "df1.groupby(\"Department\").count().show()"
   ]
  },
  {
   "cell_type": "code",
   "execution_count": 0,
   "metadata": {
    "application/vnd.databricks.v1+cell": {
     "cellMetadata": {
      "byteLimit": 2048000,
      "rowLimit": 10000
     },
     "inputWidgets": {},
     "nuid": "de7de98e-814a-43c1-ba99-1f0722141fa0",
     "showTitle": false,
     "title": ""
    }
   },
   "outputs": [
    {
     "output_type": "stream",
     "name": "stdout",
     "output_type": "stream",
     "text": [
      "+------+---+----------+------+----------+-----+\n|  Name|Age|Department|Salary|Department|Since|\n+------+---+----------+------+----------+-----+\n|Roshan| 21|        DE| 25000|        DE| 1990|\n| Imran| 22|        DE| 25000|        DE| 1990|\n|   Sam| 32|        HR| 50000|        HR| 1919|\n| Basid| 23|       R&D|100000|       R&D| 1919|\n|   Ali| 22|   Testing| 10000|   Testing| 2002|\n|Simran| 22|   Testing| 10000|   Testing| 2002|\n+------+---+----------+------+----------+-----+\n\n"
     ]
    }
   ],
   "source": [
    "# joining the two dataframes\n",
    "df1.join(df2,df1.Department ==  df2.Department) .show()"
   ]
  }
 ],
 "metadata": {
  "application/vnd.databricks.v1+notebook": {
   "dashboards": [],
   "language": "python",
   "notebookMetadata": {
    "pythonIndentUnit": 4
   },
   "notebookName": "CC Q1",
   "widgets": {}
  }
 },
 "nbformat": 4,
 "nbformat_minor": 0
}
