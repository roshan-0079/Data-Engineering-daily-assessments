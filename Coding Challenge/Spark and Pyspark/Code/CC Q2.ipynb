{
 "cells": [
  {
   "cell_type": "code",
   "execution_count": 0,
   "metadata": {
    "application/vnd.databricks.v1+cell": {
     "cellMetadata": {
      "byteLimit": 2048000,
      "rowLimit": 10000
     },
     "inputWidgets": {},
     "nuid": "8cc2e35e-49eb-456f-a6a5-a521760cb444",
     "showTitle": false,
     "title": ""
    }
   },
   "outputs": [],
   "source": [
    "from pyspark.sql import SparkSession\n",
    "spark = SparkSession.builder.appName('CCQ').getOrCreate()"
   ]
  },
  {
   "cell_type": "code",
   "execution_count": 0,
   "metadata": {
    "application/vnd.databricks.v1+cell": {
     "cellMetadata": {
      "byteLimit": 2048000,
      "rowLimit": 10000
     },
     "inputWidgets": {},
     "nuid": "a7096bcc-168e-4c27-9d7a-3fd7f7c389a6",
     "showTitle": false,
     "title": ""
    }
   },
   "outputs": [
    {
     "output_type": "execute_result",
     "data": {
      "text/plain": [
       "DataFrame[num_affected_rows: bigint, num_inserted_rows: bigint]"
      ]
     },
     "execution_count": 92,
     "metadata": {},
     "output_type": "execute_result"
    }
   ],
   "source": [
    "# creating database\n",
    "spark.sql(\"CREATE DATABASE IF NOT EXISTS CCQ\")\n",
    "# creating tables\n",
    "spark.sql(\"CREATE TABLE IF NOT EXISTS CCQ.EMPLOYEE (Name string, Age Int, Department String, Salary Int)\")\n",
    "spark.sql(\"CREATE TABLE IF NOT EXISTS CCQ.DEPARTMENT (Department String, Since Int)\")\n",
    "#Inserting values\n",
    "spark.sql(\"INSERT INTO CCQ.EMPLOYEE(Name, Age, Department, Salary) VALUES\\\n",
    "('Roshan',21,'DE',25000),('Ali',22,'Testing',10000),\\\n",
    "('Imran',22,'DE',25000),('Simran',22,'Testing',10000),\\\n",
    "('Basid',23,'R&D',100000)\")\n",
    "spark.sql(\"INSERT INTO CCQ.DEPARTMENT(Department, Since) VALUES\\\n",
    "    ('DE',1990),('Testing',2002),('R&D',1919),('HR',1919),('IT',1909)\")"
   ]
  },
  {
   "cell_type": "code",
   "execution_count": 0,
   "metadata": {
    "application/vnd.databricks.v1+cell": {
     "cellMetadata": {
      "byteLimit": 2048000,
      "rowLimit": 10000
     },
     "inputWidgets": {},
     "nuid": "0cdd51f7-cece-4b21-9b7e-a71068e75992",
     "showTitle": false,
     "title": ""
    }
   },
   "outputs": [
    {
     "output_type": "stream",
     "name": "stdout",
     "output_type": "stream",
     "text": [
      "+------+---+----------+------+\n|  Name|Age|Department|Salary|\n+------+---+----------+------+\n|Roshan| 21|        DE| 25000|\n|   Ali| 22|   Testing| 10000|\n| Imran| 22|        DE| 25000|\n|Simran| 22|   Testing| 10000|\n| Basid| 23|       R&D|100000|\n+------+---+----------+------+\n\n+----------+-----+\n|Department|Since|\n+----------+-----+\n|        DE| 1990|\n|   Testing| 2002|\n|       R&D| 1919|\n|        HR| 1919|\n|        IT| 1909|\n+----------+-----+\n\n"
     ]
    }
   ],
   "source": [
    "df1 = spark.sql(\"SELECT * FROM CCQ.employee\")\n",
    "df1.show()\n",
    "df2 = spark.sql(\"SELECT * FROM CCQ.department\")\n",
    "df2.show()"
   ]
  },
  {
   "cell_type": "code",
   "execution_count": 0,
   "metadata": {
    "application/vnd.databricks.v1+cell": {
     "cellMetadata": {
      "byteLimit": 2048000,
      "rowLimit": 10000
     },
     "inputWidgets": {},
     "nuid": "1167b128-e32e-498b-a9e9-12c3d40690f7",
     "showTitle": false,
     "title": ""
    }
   },
   "outputs": [
    {
     "output_type": "stream",
     "name": "stdout",
     "output_type": "stream",
     "text": [
      "+------+---+----------+------+----------+-----+\n|  Name|Age|Department|Salary|Department|Since|\n+------+---+----------+------+----------+-----+\n|Roshan| 21|        DE| 25000|        DE| 1990|\n|   Ali| 22|   Testing| 10000|   Testing| 2002|\n| Imran| 22|        DE| 25000|        DE| 1990|\n|Simran| 22|   Testing| 10000|   Testing| 2002|\n| Basid| 23|       R&D|100000|       R&D| 1919|\n+------+---+----------+------+----------+-----+\n\n"
     ]
    }
   ],
   "source": [
    "# joins\n",
    "# inner join\n",
    "df1.join(df2,df1.Department ==  df2.Department,\"inner\") .show()"
   ]
  },
  {
   "cell_type": "code",
   "execution_count": 0,
   "metadata": {
    "application/vnd.databricks.v1+cell": {
     "cellMetadata": {
      "byteLimit": 2048000,
      "rowLimit": 10000
     },
     "inputWidgets": {},
     "nuid": "a2856061-b9f5-453a-9d44-1b4a48218e14",
     "showTitle": false,
     "title": ""
    }
   },
   "outputs": [
    {
     "output_type": "stream",
     "name": "stdout",
     "output_type": "stream",
     "text": [
      "+------+----+----------+------+----------+-----+\n|  Name| Age|Department|Salary|Department|Since|\n+------+----+----------+------+----------+-----+\n|Roshan|  21|        DE| 25000|        DE| 1990|\n| Imran|  22|        DE| 25000|        DE| 1990|\n|  NULL|NULL|      NULL|  NULL|        HR| 1919|\n|  NULL|NULL|      NULL|  NULL|        IT| 1909|\n| Basid|  23|       R&D|100000|       R&D| 1919|\n|   Ali|  22|   Testing| 10000|   Testing| 2002|\n|Simran|  22|   Testing| 10000|   Testing| 2002|\n+------+----+----------+------+----------+-----+\n\n"
     ]
    }
   ],
   "source": [
    "#outer join\n",
    "df1.join(df2,df1.Department ==  df2.Department,\"outer\").show()"
   ]
  },
  {
   "cell_type": "code",
   "execution_count": 0,
   "metadata": {
    "application/vnd.databricks.v1+cell": {
     "cellMetadata": {
      "byteLimit": 2048000,
      "rowLimit": 10000
     },
     "inputWidgets": {},
     "nuid": "0a945ba0-8e93-4b8a-98e0-50325acbda93",
     "showTitle": false,
     "title": ""
    }
   },
   "outputs": [
    {
     "output_type": "stream",
     "name": "stdout",
     "output_type": "stream",
     "text": [
      "+------+----+----------+------+----------+-----+\n|  Name| Age|Department|Salary|Department|Since|\n+------+----+----------+------+----------+-----+\n|Roshan|  21|        DE| 25000|        DE| 1990|\n| Imran|  22|        DE| 25000|        DE| 1990|\n|  NULL|NULL|      NULL|  NULL|        HR| 1919|\n|  NULL|NULL|      NULL|  NULL|        IT| 1909|\n| Basid|  23|       R&D|100000|       R&D| 1919|\n|   Ali|  22|   Testing| 10000|   Testing| 2002|\n|Simran|  22|   Testing| 10000|   Testing| 2002|\n+------+----+----------+------+----------+-----+\n\n"
     ]
    }
   ],
   "source": [
    "#full join\n",
    "df1.join(df2,df1.Department ==  df2.Department,\"full\").show()"
   ]
  },
  {
   "cell_type": "code",
   "execution_count": 0,
   "metadata": {
    "application/vnd.databricks.v1+cell": {
     "cellMetadata": {
      "byteLimit": 2048000,
      "rowLimit": 10000
     },
     "inputWidgets": {},
     "nuid": "5c085ac4-a25d-4c88-8fd5-e306fc204bee",
     "showTitle": false,
     "title": ""
    }
   },
   "outputs": [
    {
     "output_type": "stream",
     "name": "stdout",
     "output_type": "stream",
     "text": [
      "+------+----+----------+------+----------+-----+\n|  Name| Age|Department|Salary|Department|Since|\n+------+----+----------+------+----------+-----+\n|Roshan|  21|        DE| 25000|        DE| 1990|\n| Imran|  22|        DE| 25000|        DE| 1990|\n|  NULL|NULL|      NULL|  NULL|        HR| 1919|\n|  NULL|NULL|      NULL|  NULL|        IT| 1909|\n| Basid|  23|       R&D|100000|       R&D| 1919|\n|   Ali|  22|   Testing| 10000|   Testing| 2002|\n|Simran|  22|   Testing| 10000|   Testing| 2002|\n+------+----+----------+------+----------+-----+\n\n"
     ]
    }
   ],
   "source": [
    "#full outer join\n",
    "df1.join(df2,df1.Department ==  df2.Department,\"fullouter\").show()"
   ]
  },
  {
   "cell_type": "code",
   "execution_count": 0,
   "metadata": {
    "application/vnd.databricks.v1+cell": {
     "cellMetadata": {
      "byteLimit": 2048000,
      "rowLimit": 10000
     },
     "inputWidgets": {},
     "nuid": "05456d54-2501-4759-97f2-60d842254bda",
     "showTitle": false,
     "title": ""
    }
   },
   "outputs": [
    {
     "output_type": "stream",
     "name": "stdout",
     "output_type": "stream",
     "text": [
      "+------+---+----------+------+----------+-----+\n|  Name|Age|Department|Salary|Department|Since|\n+------+---+----------+------+----------+-----+\n|Roshan| 21|        DE| 25000|        DE| 1990|\n|   Ali| 22|   Testing| 10000|   Testing| 2002|\n| Imran| 22|        DE| 25000|        DE| 1990|\n|Simran| 22|   Testing| 10000|   Testing| 2002|\n| Basid| 23|       R&D|100000|       R&D| 1919|\n+------+---+----------+------+----------+-----+\n\n"
     ]
    }
   ],
   "source": [
    "#left join\n",
    "df1.join(df2,df1.Department ==  df2.Department,\"left\").show()"
   ]
  },
  {
   "cell_type": "code",
   "execution_count": 0,
   "metadata": {
    "application/vnd.databricks.v1+cell": {
     "cellMetadata": {
      "byteLimit": 2048000,
      "rowLimit": 10000
     },
     "inputWidgets": {},
     "nuid": "b7a81754-97b0-4cf9-be39-bbc158445ba6",
     "showTitle": false,
     "title": ""
    }
   },
   "outputs": [
    {
     "output_type": "stream",
     "name": "stdout",
     "output_type": "stream",
     "text": [
      "+------+---+----------+------+----------+-----+\n|  Name|Age|Department|Salary|Department|Since|\n+------+---+----------+------+----------+-----+\n|Roshan| 21|        DE| 25000|        DE| 1990|\n|   Ali| 22|   Testing| 10000|   Testing| 2002|\n| Imran| 22|        DE| 25000|        DE| 1990|\n|Simran| 22|   Testing| 10000|   Testing| 2002|\n| Basid| 23|       R&D|100000|       R&D| 1919|\n+------+---+----------+------+----------+-----+\n\n"
     ]
    }
   ],
   "source": [
    "#left outer join\n",
    "df1.join(df2,df1.Department ==  df2.Department,\"leftouter\").show()"
   ]
  },
  {
   "cell_type": "code",
   "execution_count": 0,
   "metadata": {
    "application/vnd.databricks.v1+cell": {
     "cellMetadata": {
      "byteLimit": 2048000,
      "rowLimit": 10000
     },
     "inputWidgets": {},
     "nuid": "64b217fa-d0fe-4262-9e7b-40d01e42d6ec",
     "showTitle": false,
     "title": ""
    }
   },
   "outputs": [
    {
     "output_type": "stream",
     "name": "stdout",
     "output_type": "stream",
     "text": [
      "+------+----+----------+------+----------+-----+\n|  Name| Age|Department|Salary|Department|Since|\n+------+----+----------+------+----------+-----+\n| Imran|  22|        DE| 25000|        DE| 1990|\n|Roshan|  21|        DE| 25000|        DE| 1990|\n|Simran|  22|   Testing| 10000|   Testing| 2002|\n|   Ali|  22|   Testing| 10000|   Testing| 2002|\n| Basid|  23|       R&D|100000|       R&D| 1919|\n|  NULL|NULL|      NULL|  NULL|        HR| 1919|\n|  NULL|NULL|      NULL|  NULL|        IT| 1909|\n+------+----+----------+------+----------+-----+\n\n"
     ]
    }
   ],
   "source": [
    "# right join\n",
    "df1.join(df2,df1.Department ==  df2.Department,\"right\").show()"
   ]
  },
  {
   "cell_type": "code",
   "execution_count": 0,
   "metadata": {
    "application/vnd.databricks.v1+cell": {
     "cellMetadata": {
      "byteLimit": 2048000,
      "rowLimit": 10000
     },
     "inputWidgets": {},
     "nuid": "1e77bfa4-08f3-40a3-bc89-8e1b6e633539",
     "showTitle": false,
     "title": ""
    }
   },
   "outputs": [
    {
     "output_type": "stream",
     "name": "stdout",
     "output_type": "stream",
     "text": [
      "+------+----+----------+------+----------+-----+\n|  Name| Age|Department|Salary|Department|Since|\n+------+----+----------+------+----------+-----+\n| Imran|  22|        DE| 25000|        DE| 1990|\n|Roshan|  21|        DE| 25000|        DE| 1990|\n|Simran|  22|   Testing| 10000|   Testing| 2002|\n|   Ali|  22|   Testing| 10000|   Testing| 2002|\n| Basid|  23|       R&D|100000|       R&D| 1919|\n|  NULL|NULL|      NULL|  NULL|        HR| 1919|\n|  NULL|NULL|      NULL|  NULL|        IT| 1909|\n+------+----+----------+------+----------+-----+\n\n"
     ]
    }
   ],
   "source": [
    "#right outer join\n",
    "df1.join(df2,df1.Department ==  df2.Department,\"rightouter\").show()"
   ]
  },
  {
   "cell_type": "code",
   "execution_count": 0,
   "metadata": {
    "application/vnd.databricks.v1+cell": {
     "cellMetadata": {
      "byteLimit": 2048000,
      "rowLimit": 10000
     },
     "inputWidgets": {},
     "nuid": "f6a69735-1d16-450a-a8ac-f28b0c48337c",
     "showTitle": false,
     "title": ""
    }
   },
   "outputs": [
    {
     "output_type": "stream",
     "name": "stdout",
     "output_type": "stream",
     "text": [
      "+------+---+----------+------+\n|  Name|Age|Department|Salary|\n+------+---+----------+------+\n|Roshan| 21|        DE| 25000|\n|   Ali| 22|   Testing| 10000|\n| Imran| 22|        DE| 25000|\n|Simran| 22|   Testing| 10000|\n| Basid| 23|       R&D|100000|\n+------+---+----------+------+\n\n"
     ]
    }
   ],
   "source": [
    "# left semi join \n",
    "df1.join(df2,df1.Department ==  df2.Department,\"leftsemi\").show()"
   ]
  },
  {
   "cell_type": "code",
   "execution_count": 0,
   "metadata": {
    "application/vnd.databricks.v1+cell": {
     "cellMetadata": {
      "byteLimit": 2048000,
      "rowLimit": 10000
     },
     "inputWidgets": {},
     "nuid": "3cb8c987-6fdb-4565-bd22-2bfc227c965f",
     "showTitle": false,
     "title": ""
    }
   },
   "outputs": [
    {
     "output_type": "stream",
     "name": "stdout",
     "output_type": "stream",
     "text": [
      "+----+---+----------+------+\n|Name|Age|Department|Salary|\n+----+---+----------+------+\n+----+---+----------+------+\n\n"
     ]
    }
   ],
   "source": [
    "# left anti join\n",
    "df1.join(df2,df1.Department ==  df2.Department,\"leftanti\").show()"
   ]
  },
  {
   "cell_type": "code",
   "execution_count": 0,
   "metadata": {
    "application/vnd.databricks.v1+cell": {
     "cellMetadata": {
      "byteLimit": 2048000,
      "rowLimit": 10000
     },
     "inputWidgets": {},
     "nuid": "1466e185-7f68-43cc-be11-6ea54e5a15ce",
     "showTitle": false,
     "title": ""
    }
   },
   "outputs": [],
   "source": [
    "import pandas as pd"
   ]
  },
  {
   "cell_type": "code",
   "execution_count": 0,
   "metadata": {
    "application/vnd.databricks.v1+cell": {
     "cellMetadata": {
      "byteLimit": 2048000,
      "rowLimit": 10000
     },
     "inputWidgets": {},
     "nuid": "785a4493-8bbb-4103-bd11-aed78d1c8c83",
     "showTitle": false,
     "title": ""
    }
   },
   "outputs": [],
   "source": [
    "def filter_age():\n",
    "    filtered_df1 = pd.DataFrame()\n",
    "    filtered_df1 = df1[df1['Age'] > 22]\n",
    "    filtered_df1.show()\n"
   ]
  },
  {
   "cell_type": "code",
   "execution_count": 0,
   "metadata": {
    "application/vnd.databricks.v1+cell": {
     "cellMetadata": {
      "byteLimit": 2048000,
      "rowLimit": 10000
     },
     "inputWidgets": {},
     "nuid": "35e4031e-274f-4661-a084-f27e24ecfac9",
     "showTitle": false,
     "title": ""
    }
   },
   "outputs": [
    {
     "output_type": "stream",
     "name": "stdout",
     "output_type": "stream",
     "text": [
      "+-----+---+----------+------+\n| Name|Age|Department|Salary|\n+-----+---+----------+------+\n|Basid| 23|       R&D|100000|\n+-----+---+----------+------+\n\n"
     ]
    }
   ],
   "source": [
    "filter_age()"
   ]
  }
 ],
 "metadata": {
  "application/vnd.databricks.v1+notebook": {
   "dashboards": [],
   "language": "python",
   "notebookMetadata": {
    "pythonIndentUnit": 4
   },
   "notebookName": "CC Q2",
   "widgets": {}
  }
 },
 "nbformat": 4,
 "nbformat_minor": 0
}
